{
 "cells": [
  {
   "cell_type": "markdown",
   "metadata": {},
   "source": [
    "1. The initial starter code is available. Explore the data using the steps we discussed in this chapter. \n",
    "2. Treat missing values by using the mean/median strategy for the numeric variables and for the categorical use the mode strategy\n",
    "3. Include all the categorical variables by doing one hot encoding. Use the handle_unknown as ignore\n",
    "4. Create a train and test split\n",
    "5. Compute the feature importances and use the top 10 variables for the modeling\n",
    "6. Create a logistic regression model using sklearn API\n",
    "7. Evaluate the model using an accuracy measure.\n"
   ]
  },
  {
   "cell_type": "code",
   "execution_count": 2,
   "metadata": {},
   "outputs": [],
   "source": [
    "import pandas as pd\n",
    "\n",
    "data = pd.read_csv(r\"https://raw.githubusercontent.com/fenago/MLWorkshop/main/Chapter-3/water_potability.csv\")"
   ]
  },
  {
   "cell_type": "code",
   "execution_count": null,
   "metadata": {},
   "outputs": [],
   "source": []
  }
 ],
 "metadata": {
  "kernelspec": {
   "display_name": "Python 3.7.6 ('mlworkbook': venv)",
   "language": "python",
   "name": "python3"
  },
  "language_info": {
   "codemirror_mode": {
    "name": "ipython",
    "version": 3
   },
   "file_extension": ".py",
   "mimetype": "text/x-python",
   "name": "python",
   "nbconvert_exporter": "python",
   "pygments_lexer": "ipython3",
   "version": "3.7.6"
  },
  "orig_nbformat": 4,
  "vscode": {
   "interpreter": {
    "hash": "36d6009795c1d1ae33361ce8f614edeee745e96600adf227c0eb528effb566aa"
   }
  }
 },
 "nbformat": 4,
 "nbformat_minor": 2
}
