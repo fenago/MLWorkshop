{
 "cells": [
  {
   "cell_type": "markdown",
   "metadata": {},
   "source": [
    "### 1. The code from the previous exercise will be available for you to create the data and all. Run whatever is there in the file. \n"
   ]
  },
  {
   "cell_type": "code",
   "execution_count": 1,
   "metadata": {},
   "outputs": [],
   "source": [
    "import pandas as pd\n",
    "\n",
    "data = pd.read_csv(r\"https://raw.githubusercontent.com/fenago/MLWorkshop/main/Chapter-3/stroke.csv\")\n",
    "\n",
    "data.bmi.fillna(data.bmi.median(), inplace=True)\n",
    "\n",
    "num_cols = data.select_dtypes(include=\"number\").columns\n",
    "num_cols_rem = num_cols[~num_cols.isin([\"id\", \"stroke\"])]\n",
    "categorical_cols = data.select_dtypes(include=\"object\").columns\n",
    "\n",
    "\n",
    "\n",
    "from sklearn.model_selection import train_test_split\n",
    "\n",
    "X = data.drop(columns=[\"id\", \"stroke\"])\n",
    "y = data[\"stroke\"]\n",
    "X_train,X_test,y_train,y_test = train_test_split(X,y,test_size=0.2,stratify=y)\n",
    "\n",
    "\n",
    "X_train_cate = X_train[categorical_cols]\n",
    "X_test_cate = X_test[categorical_cols]\n",
    "X_train_num = X_train[num_cols_rem]\n",
    "X_test_num = X_test[num_cols_rem]\n",
    "\n",
    "\n",
    "from sklearn.preprocessing import OrdinalEncoder,OneHotEncoder\n",
    "\n",
    "scaler = OrdinalEncoder(handle_unknown=\"use_encoded_value\", unknown_value = -1)\n",
    "ohe = OneHotEncoder(handle_unknown=\"ignore\")\n",
    "\n",
    "\n",
    "scaler.fit(X_train_cate)\n",
    "ohe.fit(X_train_cate)\n",
    "\n",
    "X_train_transform_ord = scaler.transform(X_train_cate)\n",
    "X_test_transform_ord = scaler.transform(X_test_cate)\n",
    "\n",
    "X_train_transform_ohe = ohe.transform(X_train_cate)\n",
    "X_test_transform_ohe = ohe.transform(X_test_cate)\n",
    "\n",
    "X_train_transform_ord = pd.DataFrame(X_train_transform_ord, columns=scaler.feature_names_in_)\n",
    "X_test_transform_ord = pd.DataFrame(X_test_transform_ord, columns=scaler.feature_names_in_)\n",
    "\n",
    "X_train_transform_ohe = pd.DataFrame(X_train_transform_ohe.toarray(), columns=ohe.get_feature_names_out())\n",
    "X_test_transform_ohe = pd.DataFrame(X_test_transform_ohe.toarray(), columns=ohe.get_feature_names_out())\n",
    "\n",
    "X_train_num.reset_index(inplace=True,drop=True)\n",
    "X_test_num.reset_index(inplace=True,drop=True)\n",
    "\n",
    "X_train_ord = pd.concat([X_train_transform_ord, X_train_num],axis = 1)\n",
    "X_test_ord = pd.concat([X_test_transform_ord, X_test_num],axis = 1)\n",
    "\n",
    "\n",
    "X_train_ohe = pd.concat([X_train_transform_ohe, X_train_num],axis = 1)\n",
    "X_test_ohe = pd.concat([X_test_transform_ohe, X_test_num],axis = 1)"
   ]
  },
  {
   "cell_type": "markdown",
   "metadata": {},
   "source": [
    "### 2. Use four steps procedure on X_train_ord and y_train arrays"
   ]
  },
  {
   "cell_type": "code",
   "execution_count": null,
   "metadata": {},
   "outputs": [],
   "source": [
    "# Enter your code here"
   ]
  },
  {
   "cell_type": "markdown",
   "metadata": {},
   "source": [
    "### 3. Repeat the same procedure on the One hot data matrix:"
   ]
  },
  {
   "cell_type": "code",
   "execution_count": null,
   "metadata": {},
   "outputs": [],
   "source": [
    "# Enter your code here"
   ]
  },
  {
   "cell_type": "markdown",
   "metadata": {},
   "source": [
    "### 4. Store all the predictions from both the models in train and test data:"
   ]
  },
  {
   "cell_type": "code",
   "execution_count": null,
   "metadata": {},
   "outputs": [],
   "source": [
    "# Enter your code here"
   ]
  }
 ],
 "metadata": {
  "kernelspec": {
   "display_name": "Python 3.7.6 ('mlworkbook': venv)",
   "language": "python",
   "name": "python3"
  },
  "language_info": {
   "codemirror_mode": {
    "name": "ipython",
    "version": 3
   },
   "file_extension": ".py",
   "mimetype": "text/x-python",
   "name": "python",
   "nbconvert_exporter": "python",
   "pygments_lexer": "ipython3",
   "version": "3.7.6"
  },
  "orig_nbformat": 4,
  "vscode": {
   "interpreter": {
    "hash": "36d6009795c1d1ae33361ce8f614edeee745e96600adf227c0eb528effb566aa"
   }
  }
 },
 "nbformat": 4,
 "nbformat_minor": 2
}
