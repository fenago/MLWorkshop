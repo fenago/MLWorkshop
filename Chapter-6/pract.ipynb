{
 "cells": [],
 "metadata": {
  "kernelspec": {
   "display_name": "Python 3.7.6 ('mlworkbook': venv)",
   "language": "python",
   "name": "python3"
  },
  "language_info": {
   "codemirror_mode": {
    "name": "ipython",
    "version": 3
   },
   "file_extension": ".py",
   "mimetype": "text/x-python",
   "name": "python",
   "nbconvert_exporter": "python",
   "pygments_lexer": "ipython3",
   "version": "3.7.4"
  },
  "orig_nbformat": 4,
  "vscode": {
   "interpreter": {
    "hash": "36d6009795c1d1ae33361ce8f614edeee745e96600adf227c0eb528effb566aa"
   }
  }
 },
 "nbformat": 4,
 "nbformat_minor": 2
}
