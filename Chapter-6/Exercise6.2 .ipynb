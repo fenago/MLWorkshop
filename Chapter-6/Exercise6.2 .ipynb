{
 "cells": [
  {
   "cell_type": "markdown",
   "metadata": {},
   "source": [
    "#### 1.Read the following starter code. It will create the necessary data splits and create the transformer for your. "
   ]
  },
  {
   "cell_type": "code",
   "execution_count": 1,
   "metadata": {},
   "outputs": [],
   "source": [
    "import pandas as pd\n",
    "data = pd.read_csv(r\"https://raw.githubusercontent.com/fenago/MLWorkshop/main/Chapter-6/CrossSell.csv\")\n",
    "\n",
    "categorical_vars = [\"Gender\", \"Vehicle_Age\", \"Vehicle_Damage\"]\n",
    "numeric_vars = [\"Age\", \"Annual_Premium\", \"Vintage\"]\n",
    "others = [\"Driving_License\",\"Region_Code\",  \"Previously_Insured\",\n",
    "         \"Policy_Sales_Channel\"]\n",
    "\n",
    "from sklearn.model_selection import train_test_split\n",
    "\n",
    "X = data[categorical_vars + numeric_vars + others]\n",
    "y = data[\"Response\"]\n",
    "\n",
    "X_train, X_test, y_train, y_test = train_test_split(X,y,\n",
    "                                                test_size = 0.3, \n",
    "                                                stratify = y)\n",
    "\n",
    "\n",
    "from sklearn.pipeline import make_pipeline\n",
    "from sklearn.preprocessing import OneHotEncoder, StandardScaler\n",
    "from sklearn.compose import ColumnTransformer\n",
    "\n",
    "\n",
    "\n",
    "transformer = ColumnTransformer( [\n",
    "    (\"numeric\", StandardScaler(), numeric_vars),\n",
    "    (\"categorical\", OneHotEncoder(handle_unknown='ignore'),categorical_vars),\n",
    "    (\"others\", \"passthrough\", others)\n",
    "])\n"
   ]
  },
  {
   "cell_type": "markdown",
   "metadata": {},
   "source": [
    "### 3.\tImport the random forest classifier from the ensemble module:"
   ]
  },
  {
   "cell_type": "code",
   "execution_count": null,
   "metadata": {},
   "outputs": [],
   "source": [
    "# WRITE YOUR CODE HERE"
   ]
  },
  {
   "cell_type": "markdown",
   "metadata": {},
   "source": [
    "### 4.\tCreate a pipeline for the random forest classifier:"
   ]
  },
  {
   "cell_type": "code",
   "execution_count": null,
   "metadata": {},
   "outputs": [],
   "source": [
    "# WRITE YOUR CODE HERE"
   ]
  },
  {
   "cell_type": "markdown",
   "metadata": {},
   "source": [
    "### 5.\tNow, let us fit and evaluate this pipeline using AUC score:"
   ]
  },
  {
   "cell_type": "code",
   "execution_count": null,
   "metadata": {},
   "outputs": [],
   "source": [
    "# WRITE YOUR CODE HERE"
   ]
  }
 ],
 "metadata": {
  "kernelspec": {
   "display_name": "Python 3.7.4 64-bit",
   "language": "python",
   "name": "python3"
  },
  "language_info": {
   "codemirror_mode": {
    "name": "ipython",
    "version": 3
   },
   "file_extension": ".py",
   "mimetype": "text/x-python",
   "name": "python",
   "nbconvert_exporter": "python",
   "pygments_lexer": "ipython3",
   "version": "3.7.4"
  },
  "orig_nbformat": 4,
  "vscode": {
   "interpreter": {
    "hash": "587a50776dd7ca8e17713fc74ebdaacfdd3e60573f1d854a8648c9544aa037a3"
   }
  }
 },
 "nbformat": 4,
 "nbformat_minor": 2
}
