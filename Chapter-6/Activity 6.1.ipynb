{
 "cells": [
  {
   "cell_type": "markdown",
   "metadata": {},
   "source": [
    "Open the Activity 6.1.ipynb file The objective is to build a classification model to predict the forest cover type. Follow the below mentioned steps to do the same:\n",
    "\n",
    "\t1. Read the data using pandas\n",
    "\t2. Extract all the numeric columns in a separate variable as a list and all the categorical as a separate variable\n",
    "\t3. Build a column transform to \n",
    "\t4. Impute the missing values of numeric data using SimpleImputer\n",
    "\t5. Scale the numeric variables using Standard Scaler\n",
    "\t6. Transform the categorical columns using one hot encoding\n",
    "\t7. Build a decision tree pipeline with the above column transformer and train the pipeline\n",
    "\t8. Make predictions using the above pipeline and compute the AUC for both train and test data.\n",
    "\t9. Tune the max_depth and min_samples_split parameter for this pipeline.\n",
    "\t10. Perform the above three for Random Forest and Gradient Boosting\n",
    "\t11. Which model performed best?\n",
    "\t12. Use Xgboost in the pipeline to predict the forest cover. \n",
    "What was the time difference between Gradient Boosting and Xgboost?\n"
   ]
  }
 ],
 "metadata": {
  "kernelspec": {
   "display_name": "Python 3.7.4 64-bit",
   "language": "python",
   "name": "python3"
  },
  "language_info": {
   "name": "python",
   "version": "3.7.4"
  },
  "orig_nbformat": 4,
  "vscode": {
   "interpreter": {
    "hash": "587a50776dd7ca8e17713fc74ebdaacfdd3e60573f1d854a8648c9544aa037a3"
   }
  }
 },
 "nbformat": 4,
 "nbformat_minor": 2
}
