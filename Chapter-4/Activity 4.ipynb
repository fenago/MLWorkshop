{
 "cells": [
  {
   "cell_type": "markdown",
   "metadata": {},
   "source": [
    "1.\tThe initial starter code is available. Explore the data using the steps we discussed in this chapter. \n",
    "2.\tBuild a classification model using one hot encoding for the categorical variables. Replace all the missing values with the appropriate values which we discussed in the last lecture. \n",
    "3.\tCompute the following metrics:\n",
    "1.\tAccuracy score\n",
    "2.\tConfusion matrix\n",
    "3.\tPrecision and Recall\n",
    "4.\tF1 Score\n",
    "4.\tCompute accuracy for different thresholds. \n",
    "5.\tPerform K fold cross validation using 20 folds (compute AUC) and compute the mean and standard deviation of these 20 AUC scores.\n"
   ]
  },
  {
   "cell_type": "code",
   "execution_count": 2,
   "metadata": {},
   "outputs": [],
   "source": [
    "import pandas as pd\n",
    "\n",
    "data = pd.read_csv(r\"https://raw.githubusercontent.com/fenago/MLWorkshop/main/Chapter-3/water_potability.csv\")"
   ]
  },
  {
   "cell_type": "code",
   "execution_count": null,
   "metadata": {},
   "outputs": [],
   "source": []
  }
 ],
 "metadata": {
  "kernelspec": {
   "display_name": "Python 3.7.6 ('mlworkbook': venv)",
   "language": "python",
   "name": "python3"
  },
  "language_info": {
   "codemirror_mode": {
    "name": "ipython",
    "version": 3
   },
   "file_extension": ".py",
   "mimetype": "text/x-python",
   "name": "python",
   "nbconvert_exporter": "python",
   "pygments_lexer": "ipython3",
   "version": "3.7.6"
  },
  "orig_nbformat": 4,
  "vscode": {
   "interpreter": {
    "hash": "36d6009795c1d1ae33361ce8f614edeee745e96600adf227c0eb528effb566aa"
   }
  }
 },
 "nbformat": 4,
 "nbformat_minor": 2
}
