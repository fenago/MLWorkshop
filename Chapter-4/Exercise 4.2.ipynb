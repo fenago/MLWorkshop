{
 "cells": [
  {
   "cell_type": "markdown",
   "metadata": {},
   "source": [
    "### 1. Run the code below. It will create necessary splits and models for you. "
   ]
  },
  {
   "cell_type": "code",
   "execution_count": 1,
   "metadata": {},
   "outputs": [],
   "source": [
    "import pandas as pd\n",
    "\n",
    "data = pd.read_csv(r\"https://raw.githubusercontent.com/fenago/MLWorkshop/main/Chapter-3/stroke.csv\")\n",
    "\n",
    "data.bmi.fillna(data.bmi.median(), inplace=True)\n",
    "\n",
    "num_cols = data.select_dtypes(include=\"number\").columns\n",
    "num_cols_rem = num_cols[~num_cols.isin([\"id\", \"stroke\"])]\n",
    "categorical_cols = data.select_dtypes(include=\"object\").columns\n",
    "\n",
    "from sklearn.model_selection import train_test_split\n",
    "\n",
    "X = data.drop(columns=[\"id\", \"stroke\"])\n",
    "y = data[\"stroke\"]\n",
    "X_train,X_test,y_train,y_test = train_test_split(X,y,test_size=0.2,stratify=y)\n",
    "\n",
    "\n",
    "X_train_cate = X_train[categorical_cols]\n",
    "X_test_cate = X_test[categorical_cols]\n",
    "X_train_num = X_train[num_cols_rem]\n",
    "X_test_num = X_test[num_cols_rem]\n",
    "\n",
    "\n",
    "from sklearn.preprocessing import OneHotEncoder\n",
    "\n",
    "ohe = OneHotEncoder(handle_unknown=\"ignore\")\n",
    "ohe.fit(X_train_cate)\n",
    "\n",
    "X_train_transform_ohe = ohe.transform(X_train_cate)\n",
    "X_test_transform_ohe = ohe.transform(X_test_cate)\n",
    "\n",
    "X_train_transform_ohe = pd.DataFrame(X_train_transform_ohe.toarray(), columns=ohe.get_feature_names_out())\n",
    "X_test_transform_ohe = pd.DataFrame(X_test_transform_ohe.toarray(), columns=ohe.get_feature_names_out())\n",
    "\n",
    "X_train_num.reset_index(inplace=True,drop=True)\n",
    "X_test_num.reset_index(inplace=True,drop=True)\n",
    "\n",
    "X_train_ohe = pd.concat([X_train_transform_ohe, X_train_num],axis = 1)\n",
    "X_test_ohe = pd.concat([X_test_transform_ohe, X_test_num],axis = 1)\n",
    "\n",
    "from sklearn.linear_model import LogisticRegression\n",
    "model_ohe = LogisticRegression(max_iter=1000)\n",
    "\n",
    "model_ohe.fit(X_train_ohe,y_train)\n",
    "\n",
    "train_preds_ohe = model_ohe.predict(X_train_ohe)\n",
    "test_preds_ohe = model_ohe.predict(X_test_ohe)"
   ]
  },
  {
   "cell_type": "markdown",
   "metadata": {},
   "source": [
    "### 2.\tImplementing the confusion matrix method using numpy:\n"
   ]
  },
  {
   "cell_type": "code",
   "execution_count": 2,
   "metadata": {},
   "outputs": [],
   "source": [
    "# 1. First, we must create a True and False array depending upon whether the prediction is positive (stroke) or negative (no stroke):\n",
    "\n",
    "# Enter your code here"
   ]
  },
  {
   "cell_type": "code",
   "execution_count": 3,
   "metadata": {},
   "outputs": [],
   "source": [
    "# 2. Then, we just compare them. These are four vectors, and we will take all unique pairs of these vectors and apply the “and” operator:\n",
    "\n",
    "# Enter your code here"
   ]
  },
  {
   "cell_type": "code",
   "execution_count": 4,
   "metadata": {},
   "outputs": [],
   "source": [
    "# 3. Now, we are ready to create a matrix. We can display it as we wish, but to make sure you notice the change, we are doing it differently than the sklearn’s implementation:\n",
    "\n",
    "# Enter your code here"
   ]
  },
  {
   "cell_type": "markdown",
   "metadata": {},
   "source": [
    "### 3.\tUsing sklearn to create the same table but represented differently:"
   ]
  },
  {
   "cell_type": "code",
   "execution_count": 5,
   "metadata": {},
   "outputs": [],
   "source": [
    "# Enter your code here"
   ]
  }
 ],
 "metadata": {
  "kernelspec": {
   "display_name": "Python 3.7.6 ('mlworkbook': venv)",
   "language": "python",
   "name": "python3"
  },
  "language_info": {
   "codemirror_mode": {
    "name": "ipython",
    "version": 3
   },
   "file_extension": ".py",
   "mimetype": "text/x-python",
   "name": "python",
   "nbconvert_exporter": "python",
   "pygments_lexer": "ipython3",
   "version": "3.7.6"
  },
  "orig_nbformat": 4,
  "vscode": {
   "interpreter": {
    "hash": "36d6009795c1d1ae33361ce8f614edeee745e96600adf227c0eb528effb566aa"
   }
  }
 },
 "nbformat": 4,
 "nbformat_minor": 2
}
