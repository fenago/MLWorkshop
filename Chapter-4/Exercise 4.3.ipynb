{
 "cells": [
  {
   "cell_type": "markdown",
   "metadata": {},
   "source": [
    "### 1. Run the code below. It will create necessary splits and models for you. "
   ]
  },
  {
   "cell_type": "code",
   "execution_count": 1,
   "metadata": {},
   "outputs": [],
   "source": [
    "import pandas as pd\n",
    "\n",
    "data = pd.read_csv(r\"https://raw.githubusercontent.com/fenago/MLWorkshop/main/Chapter-3/stroke.csv\")\n",
    "\n",
    "data.bmi.fillna(data.bmi.median(), inplace=True)\n",
    "\n",
    "num_cols = data.select_dtypes(include=\"number\").columns\n",
    "num_cols_rem = num_cols[~num_cols.isin([\"id\", \"stroke\"])]\n",
    "categorical_cols = data.select_dtypes(include=\"object\").columns\n",
    "\n",
    "from sklearn.model_selection import train_test_split\n",
    "\n",
    "X = data.drop(columns=[\"id\", \"stroke\"])\n",
    "y = data[\"stroke\"]\n",
    "X_train,X_test,y_train,y_test = train_test_split(X,y,test_size=0.2,stratify=y)\n",
    "\n",
    "\n",
    "X_train_cate = X_train[categorical_cols]\n",
    "X_test_cate = X_test[categorical_cols]\n",
    "X_train_num = X_train[num_cols_rem]\n",
    "X_test_num = X_test[num_cols_rem]\n",
    "\n",
    "\n",
    "from sklearn.preprocessing import OneHotEncoder\n",
    "\n",
    "ohe = OneHotEncoder(handle_unknown=\"ignore\")\n",
    "ohe.fit(X_train_cate)\n",
    "\n",
    "X_train_transform_ohe = ohe.transform(X_train_cate)\n",
    "X_test_transform_ohe = ohe.transform(X_test_cate)\n",
    "\n",
    "X_train_transform_ohe = pd.DataFrame(X_train_transform_ohe.toarray(), columns=ohe.get_feature_names_out())\n",
    "X_test_transform_ohe = pd.DataFrame(X_test_transform_ohe.toarray(), columns=ohe.get_feature_names_out())\n",
    "\n",
    "X_train_num.reset_index(inplace=True,drop=True)\n",
    "X_test_num.reset_index(inplace=True,drop=True)\n",
    "\n",
    "X_train_ohe = pd.concat([X_train_transform_ohe, X_train_num],axis = 1)\n",
    "X_test_ohe = pd.concat([X_test_transform_ohe, X_test_num],axis = 1)\n",
    "\n",
    "from sklearn.linear_model import LogisticRegression\n",
    "model_ohe = LogisticRegression(max_iter=1000)\n",
    "\n",
    "model_ohe.fit(X_train_ohe,y_train)\n",
    "\n",
    "train_preds_ohe = model_ohe.predict(X_train_ohe)\n",
    "test_preds_ohe = model_ohe.predict(X_test_ohe)"
   ]
  },
  {
   "cell_type": "code",
   "execution_count": null,
   "metadata": {},
   "outputs": [],
   "source": [
    "\n",
    "import numpy as np\n",
    "actual_stroke = y_test == 1\n",
    "actual_no_stroke = y_test == 0\n",
    "\n",
    "predicted_stroke = test_preds_ohe == 1\n",
    "predicted_no_stroke = test_preds_ohe == 0\n",
    "\n",
    "true_positive = (actual_stroke & predicted_stroke).sum()\n",
    "false_negative = (actual_stroke & predicted_no_stroke).sum()\n",
    "false_positive = (actual_no_stroke & predicted_stroke).sum()\n",
    "true_negative = (actual_no_stroke & predicted_no_stroke).sum()\n",
    "\n",
    "confusion_table = np.array([ [ true_positive, false_negative],\n",
    "                             [ false_positive,true_negative]])"
   ]
  },
  {
   "cell_type": "markdown",
   "metadata": {},
   "source": [
    "### 2.\tNow, compute the Precision and Recall using the numpy:"
   ]
  },
  {
   "cell_type": "code",
   "execution_count": 2,
   "metadata": {},
   "outputs": [],
   "source": [
    "\n",
    "# Enter your code here"
   ]
  },
  {
   "cell_type": "markdown",
   "metadata": {},
   "source": [
    "### 3.Compute the same two measures using sklearn and compare both the answers:\n",
    "\n"
   ]
  },
  {
   "cell_type": "code",
   "execution_count": 5,
   "metadata": {},
   "outputs": [],
   "source": [
    "# Enter your code here"
   ]
  },
  {
   "cell_type": "markdown",
   "metadata": {},
   "source": [
    "### 4.\tNow compute the F1 Score from the precision and recall:"
   ]
  },
  {
   "cell_type": "code",
   "execution_count": null,
   "metadata": {},
   "outputs": [],
   "source": [
    "# Enter your code here"
   ]
  }
 ],
 "metadata": {
  "kernelspec": {
   "display_name": "Python 3.7.6 ('mlworkbook': venv)",
   "language": "python",
   "name": "python3"
  },
  "language_info": {
   "codemirror_mode": {
    "name": "ipython",
    "version": 3
   },
   "file_extension": ".py",
   "mimetype": "text/x-python",
   "name": "python",
   "nbconvert_exporter": "python",
   "pygments_lexer": "ipython3",
   "version": "3.7.6"
  },
  "orig_nbformat": 4,
  "vscode": {
   "interpreter": {
    "hash": "36d6009795c1d1ae33361ce8f614edeee745e96600adf227c0eb528effb566aa"
   }
  }
 },
 "nbformat": 4,
 "nbformat_minor": 2
}
