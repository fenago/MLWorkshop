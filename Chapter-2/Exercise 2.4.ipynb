{
 "cells": [
  {
   "cell_type": "markdown",
   "metadata": {},
   "source": [
    "### 1. Run all the below code"
   ]
  },
  {
   "cell_type": "code",
   "execution_count": 1,
   "metadata": {},
   "outputs": [],
   "source": [
    "import pandas as pd\n",
    "import numpy as np\n",
    "cancer_data = pd.read_csv(r\"https://raw.githubusercontent.com/fenago/MLWorkshop/main/Chapter-2/cancer_reg.csv\",\n",
    "encoding = \"latin-1\")\n",
    "\n",
    "true_false_mask = pd.isnull(cancer_data).sum().values == 0\n",
    "new_cancer_data = cancer_data[cancer_data.columns[true_false_mask]]\n",
    "\n",
    "numeric_vars = cancer_data.select_dtypes(include=\"number\").columns\n",
    "categorical_vars = cancer_data.select_dtypes(include=\"object\").columns\n",
    "\n",
    "only_target_corrs = new_cancer_data.corr()[\"TARGET_deathRate\"]\n",
    "top5_vars = only_target_corrs.sort_values(ascending = False)[1:6].index"
   ]
  },
  {
   "cell_type": "code",
   "execution_count": 2,
   "metadata": {},
   "outputs": [],
   "source": [
    "from sklearn.model_selection import train_test_split\n",
    "\n",
    "X = new_cancer_data[top5_vars]\n",
    "y = new_cancer_data[\"TARGET_deathRate\"]\n",
    "\n",
    "X_train,X_test,y_train,y_test = train_test_split(X, y, test_size=0.30)"
   ]
  },
  {
   "cell_type": "code",
   "execution_count": 3,
   "metadata": {},
   "outputs": [],
   "source": [
    "from sklearn.linear_model import LinearRegression\n",
    "\n",
    "lr = LinearRegression()\n",
    "lr.fit(X_train, y_train)\n",
    "\n",
    "train_predictions_sklearn = lr.predict(X_train)\n",
    "test_predictions_sklearn = lr.predict(X_test)"
   ]
  },
  {
   "cell_type": "code",
   "execution_count": 4,
   "metadata": {},
   "outputs": [],
   "source": [
    "def lr_from_scratch(X, y):\n",
    "    new_X = np.hstack((np.ones((X.shape[0],1)),X)) \n",
    "\n",
    "    first_term = np.dot(np.transpose(new_X), new_X)\n",
    "    second_term = np.dot(np.transpose(new_X), y)\n",
    "\n",
    "    result = np.dot(np.linalg.inv(first_term), second_term)\n",
    "    return result\n",
    "\n",
    "def predict_from_lr_scrach(X):\n",
    "    trained_coefs = lr_from_scratch(X_train, y_train)\n",
    "\n",
    "    new_X = np.hstack((np.ones((X.shape[0],1)),X))\n",
    "\n",
    "    predictions = np.dot(new_X, trained_coefs)\n",
    "    return predictions\n",
    "\n",
    "train_predictions = predict_from_lr_scrach(X_train)\n",
    "test_predictions = predict_from_lr_scrach(X_test)"
   ]
  },
  {
   "cell_type": "markdown",
   "metadata": {},
   "source": [
    "### 2. Create a function to compute root mean squared error"
   ]
  },
  {
   "cell_type": "code",
   "execution_count": null,
   "metadata": {},
   "outputs": [],
   "source": [
    "# WRITE YOUR CODE HERE"
   ]
  },
  {
   "cell_type": "markdown",
   "metadata": {},
   "source": [
    "### 3. Use the function to compute the RMSE on train and test predictions"
   ]
  },
  {
   "cell_type": "code",
   "execution_count": null,
   "metadata": {},
   "outputs": [],
   "source": [
    "# WRITE YOUR CODE HERE"
   ]
  },
  {
   "cell_type": "markdown",
   "metadata": {},
   "source": [
    "### 4. Use the sklearn function to compute rmse. Don’t forget to add squared=True."
   ]
  },
  {
   "cell_type": "code",
   "execution_count": null,
   "metadata": {},
   "outputs": [],
   "source": [
    "# WRITE YOUR CODE HERE"
   ]
  },
  {
   "cell_type": "markdown",
   "metadata": {},
   "source": []
  }
 ],
 "metadata": {
  "kernelspec": {
   "display_name": "Python 3.7.6 ('mlbook-venv': venv)",
   "language": "python",
   "name": "python3"
  },
  "language_info": {
   "codemirror_mode": {
    "name": "ipython",
    "version": 3
   },
   "file_extension": ".py",
   "mimetype": "text/x-python",
   "name": "python",
   "nbconvert_exporter": "python",
   "pygments_lexer": "ipython3",
   "version": "3.7.6"
  },
  "orig_nbformat": 4,
  "vscode": {
   "interpreter": {
    "hash": "b426351a68d79e6753c7c6aeba2923fbbcc2117436464559954c8671e058d598"
   }
  }
 },
 "nbformat": 4,
 "nbformat_minor": 2
}
