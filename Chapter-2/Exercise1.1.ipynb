{
 "cells": [
  {
   "cell_type": "markdown",
   "metadata": {},
   "source": [
    "1. Read the cancer data. \n",
    "2. Run .shape command. \n",
    "3. View the top few rows of the data.\n",
    "4. How many columns have missing values?\n",
    "5. Name those missing columns\n",
    "6. Check the shape of the new cancer data (after removing the missing columns). How many columns are left now?\n",
    "7. Create a new variable called numeric_vars which only contains numeric columns\n",
    "8. Create a new variable called categorical_vars which only contains categorical columns. \n",
    "9. [Challenge] Store those variables in a new variable called “top_correlated” which is highly correlated with the target. Store the top 5 of them. "
   ]
  },
  {
   "cell_type": "markdown",
   "metadata": {},
   "source": []
  },
  {
   "cell_type": "code",
   "execution_count": null,
   "metadata": {},
   "outputs": [],
   "source": [
    "# WRITE YOUR CODE HERE"
   ]
  }
 ],
 "metadata": {
  "kernelspec": {
   "display_name": "Python 3.7.6 ('mlworkbook': venv)",
   "language": "python",
   "name": "python3"
  },
  "language_info": {
   "name": "python",
   "version": "3.7.6"
  },
  "orig_nbformat": 4,
  "vscode": {
   "interpreter": {
    "hash": "36d6009795c1d1ae33361ce8f614edeee745e96600adf227c0eb528effb566aa"
   }
  }
 },
 "nbformat": 4,
 "nbformat_minor": 2
}
