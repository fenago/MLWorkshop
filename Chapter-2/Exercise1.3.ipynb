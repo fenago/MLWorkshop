{
 "cells": [
  {
   "cell_type": "markdown",
   "metadata": {},
   "source": [
    "### 1. Run the below cells"
   ]
  },
  {
   "cell_type": "code",
   "execution_count": 1,
   "metadata": {},
   "outputs": [],
   "source": [
    "import pandas as pd\n",
    "import numpy as np\n",
    "cancer_data = pd.read_csv(r\"https://raw.githubusercontent.com/fenago/MLWorkshop/main/Chapter-2/cancer_reg.csv\",\n",
    "encoding = \"latin-1\")\n",
    "\n",
    "true_false_mask = pd.isnull(cancer_data).sum().values == 0\n",
    "new_cancer_data = cancer_data[cancer_data.columns[true_false_mask]]\n",
    "\n",
    "numeric_vars = cancer_data.select_dtypes(include=\"number\").columns\n",
    "categorical_vars = cancer_data.select_dtypes(include=\"object\").columns\n",
    "\n",
    "only_target_corrs = new_cancer_data.corr()[\"TARGET_deathRate\"]\n",
    "top5_vars = only_target_corrs.sort_values(ascending = False)[1:6].index"
   ]
  },
  {
   "cell_type": "code",
   "execution_count": 2,
   "metadata": {},
   "outputs": [],
   "source": [
    "from sklearn.model_selection import train_test_split\n",
    "\n",
    "X = new_cancer_data[top5_vars]\n",
    "y = new_cancer_data[\"TARGET_deathRate\"]\n",
    "\n",
    "X_train,X_test,y_train,y_test = train_test_split(X, y, test_size=0.30)"
   ]
  },
  {
   "cell_type": "markdown",
   "metadata": {},
   "source": [
    "### 2. You just need to use the above four steps to train a LR model from sklearn"
   ]
  },
  {
   "cell_type": "code",
   "execution_count": null,
   "metadata": {},
   "outputs": [],
   "source": [
    "# WRITE YOUR CODE HERE"
   ]
  },
  {
   "cell_type": "markdown",
   "metadata": {},
   "source": [
    "### 3. Code from previous module. Compute the train and test predictions using the .predict method we just discussed. Save these into predictions_train_sklearn and predictions_test_sklearn\n",
    " "
   ]
  },
  {
   "cell_type": "code",
   "execution_count": null,
   "metadata": {},
   "outputs": [],
   "source": [
    "# WRITE YOUR CODE HERE"
   ]
  },
  {
   "cell_type": "markdown",
   "metadata": {},
   "source": [
    "### 4. Code from previous module. Compare these predictions with our own implementation, these should be exactly the same. "
   ]
  },
  {
   "cell_type": "code",
   "execution_count": 3,
   "metadata": {},
   "outputs": [],
   "source": [
    "def lr_from_scratch(X, y):\n",
    "    new_X = np.hstack((np.ones((X.shape[0],1)),X)) \n",
    "\n",
    "    first_term = np.dot(np.transpose(new_X), new_X)\n",
    "    second_term = np.dot(np.transpose(new_X), y)\n",
    "\n",
    "    result = np.dot(np.linalg.inv(first_term), second_term)\n",
    "    return result\n",
    "\n",
    "def predict_from_lr_scrach(X):\n",
    "    trained_coefs = lr_from_scratch(X_train, y_train)\n",
    "\n",
    "    new_X = np.hstack((np.ones((X.shape[0],1)),X))\n",
    "\n",
    "    predictions = np.dot(new_X, trained_coefs)\n",
    "    return predictions"
   ]
  },
  {
   "cell_type": "code",
   "execution_count": null,
   "metadata": {},
   "outputs": [],
   "source": [
    "# WRITE YOUR CODE HERE\n",
    "\n",
    "# YOU HAVE TO COMPARE THE PREDICTIONS OF SKLEARN AND SCRATCH\n",
    "\n",
    "train_predictions = predict_from_lr_scrach(X_train)\n",
    "test_predictions = predict_from_lr_scrach(X_test)\n"
   ]
  },
  {
   "cell_type": "markdown",
   "metadata": {},
   "source": [
    "### 5. [Challenge] Call the .coef_ and .intercept_ attribute of model_name class and make sure that model coefficient of sklearn implementation and our earlier implementation are the same.\n"
   ]
  },
  {
   "cell_type": "code",
   "execution_count": 1,
   "metadata": {},
   "outputs": [],
   "source": [
    "# WRITE YOUR CODE HERE"
   ]
  }
 ],
 "metadata": {
  "kernelspec": {
   "display_name": "Python 3.7.6 64-bit",
   "language": "python",
   "name": "python3"
  },
  "language_info": {
   "codemirror_mode": {
    "name": "ipython",
    "version": 3
   },
   "file_extension": ".py",
   "mimetype": "text/x-python",
   "name": "python",
   "nbconvert_exporter": "python",
   "pygments_lexer": "ipython3",
   "version": "3.7.6"
  },
  "orig_nbformat": 4,
  "vscode": {
   "interpreter": {
    "hash": "23f67a507918cc24875a4e5cccfe6854ec94e9dfaf074814814330b2b75c1041"
   }
  }
 },
 "nbformat": 4,
 "nbformat_minor": 2
}
