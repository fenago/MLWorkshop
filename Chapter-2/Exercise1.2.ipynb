{
 "cells": [
  {
   "cell_type": "markdown",
   "metadata": {},
   "source": [
    "### 1. Run the below cells"
   ]
  },
  {
   "cell_type": "code",
   "execution_count": 1,
   "metadata": {},
   "outputs": [],
   "source": [
    "import pandas as pd\n",
    "import numpy as np\n",
    "cancer_data = pd.read_csv(r\"https://raw.githubusercontent.com/fenago/MLWorkshop/main/Chapter-2/cancer_reg.csv\",\n",
    "encoding = \"latin-1\")\n",
    "\n",
    "true_false_mask = pd.isnull(cancer_data).sum().values == 0\n",
    "new_cancer_data = cancer_data[cancer_data.columns[true_false_mask]]\n",
    "\n",
    "numeric_vars = cancer_data.select_dtypes(include=\"number\").columns\n",
    "categorical_vars = cancer_data.select_dtypes(include=\"object\").columns\n",
    "\n",
    "only_target_corrs = new_cancer_data.corr()[\"TARGET_deathRate\"]\n",
    "top5_vars = only_target_corrs.sort_values(ascending = False)[1:6].index"
   ]
  },
  {
   "cell_type": "code",
   "execution_count": 2,
   "metadata": {},
   "outputs": [],
   "source": [
    "from sklearn.model_selection import train_test_split\n",
    "\n",
    "X = new_cancer_data[top5_vars]\n",
    "y = new_cancer_data[\"TARGET_deathRate\"]\n",
    "\n",
    "X_train,X_test,y_train,y_test = train_test_split(X, y, test_size=0.30)"
   ]
  },
  {
   "cell_type": "code",
   "execution_count": 3,
   "metadata": {},
   "outputs": [],
   "source": [
    "only_target_corrs = new_cancer_data.corr()[\"TARGET_deathRate\"]\n",
    "top5_vars = only_target_corrs.sort_values(ascending = False)[1:6].index"
   ]
  },
  {
   "cell_type": "markdown",
   "metadata": {},
   "source": [
    "### 2. Split the data"
   ]
  },
  {
   "cell_type": "code",
   "execution_count": null,
   "metadata": {},
   "outputs": [],
   "source": [
    "# WRITE YOUR CODE HERE\n",
    "\n"
   ]
  },
  {
   "cell_type": "markdown",
   "metadata": {},
   "source": [
    "### 3. Use the lr_from_scratch function on X_train and y_train arrays. This function implements the Linear Regression from scratch using numpy:"
   ]
  },
  {
   "cell_type": "code",
   "execution_count": null,
   "metadata": {},
   "outputs": [],
   "source": [
    "# WRITE YOUR CODE HERE\n"
   ]
  },
  {
   "cell_type": "markdown",
   "metadata": {},
   "source": [
    "### 4. What values do you get?"
   ]
  },
  {
   "cell_type": "code",
   "execution_count": null,
   "metadata": {},
   "outputs": [],
   "source": [
    "# WRITE YOUR CODE HERE\n"
   ]
  },
  {
   "cell_type": "markdown",
   "metadata": {},
   "source": [
    "### 5. Implement a function which takes one X and calculates the prediction using the coefficients we just found. It should be easy. We need to add the bias to the weighted sum of coefficients and matrix values. Try to do this problem on your own before looking at the solution "
   ]
  },
  {
   "cell_type": "code",
   "execution_count": null,
   "metadata": {},
   "outputs": [],
   "source": [
    "# WRITE YOUR CODE HERE\n"
   ]
  },
  {
   "cell_type": "markdown",
   "metadata": {},
   "source": [
    "### 6. Use this function to make predictions on both training and testing sets, I.e X_train and X_test. Store your predictions in predictions_train and predictions_test respectively. \n"
   ]
  },
  {
   "cell_type": "code",
   "execution_count": 1,
   "metadata": {},
   "outputs": [],
   "source": [
    "# WRITE YOUR CODE HERE"
   ]
  },
  {
   "cell_type": "code",
   "execution_count": null,
   "metadata": {},
   "outputs": [],
   "source": []
  }
 ],
 "metadata": {
  "kernelspec": {
   "display_name": "Python 3.7.6 64-bit",
   "language": "python",
   "name": "python3"
  },
  "language_info": {
   "codemirror_mode": {
    "name": "ipython",
    "version": 3
   },
   "file_extension": ".py",
   "mimetype": "text/x-python",
   "name": "python",
   "nbconvert_exporter": "python",
   "pygments_lexer": "ipython3",
   "version": "3.7.6"
  },
  "orig_nbformat": 4,
  "vscode": {
   "interpreter": {
    "hash": "23f67a507918cc24875a4e5cccfe6854ec94e9dfaf074814814330b2b75c1041"
   }
  }
 },
 "nbformat": 4,
 "nbformat_minor": 2
}
